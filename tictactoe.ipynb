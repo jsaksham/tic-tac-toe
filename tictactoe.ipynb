{
 "cells": [
  {
   "cell_type": "code",
   "execution_count": 1,
   "metadata": {},
   "outputs": [],
   "source": [
    "def win_game(board,mark):\n",
    "    return (board[1]==mark and board[2]==mark and board[3]==mark) or (board[4]==mark and board[5]==mark and board[6]==mark)or (board[7]==mark and board[8]==mark and board[9]==mark)or (board[1]==mark and board[4]==mark and board[7]==mark)or (board[2]==mark and board[5]==mark and board[8]==mark)or (board[3]==mark and board[6]==mark and board[9]==mark)or (board[7]==mark and board[8]==mark and board[9]==mark)or (board[1]==mark and board[5]==mark and board[9]==mark)or (board[3]==mark and board[5]==mark and board[7]==mark)"
   ]
  },
  {
   "cell_type": "code",
   "execution_count": 2,
   "metadata": {},
   "outputs": [
    {
     "name": "stdout",
     "output_type": "stream",
     "text": [
      "X | O | X\n",
      "---------\n",
      "O | X | O\n",
      "---------\n",
      "X | O | X\n"
     ]
    }
   ],
   "source": [
    "from IPython.display import clear_output\n",
    "test_board = ['#','X','O','X','O','X','O','X','O','X']\n",
    "def display_board(board):\n",
    "    clear_output()\n",
    "    print(f\"{board[1]} | {board[2]} | {board[3]}\\n---------\\n{board[4]} | {board[5]} | {board[6]}\\n---------\\n{board[7]} | {board[8]} | {board[9]}\")\n",
    "display_board(test_board)    "
   ]
  },
  {
   "cell_type": "code",
   "execution_count": 3,
   "metadata": {},
   "outputs": [],
   "source": [
    "def player_input():\n",
    "    global player1\n",
    "    player1=input('Enter the name of first player:\\n')\n",
    "    global player1mark\n",
    "    player1mark=''\n",
    "    while not (player1mark=='X' or player1mark=='O'):\n",
    "        player1mark=input(f\"Enter your mark {player1} 'X' or 'O': \" ).upper()\n",
    "    global player2\n",
    "    global player2mark\n",
    "    player2mark=''\n",
    "    if player1mark=='X':\n",
    "        player2mark='O'\n",
    "    else:\n",
    "        player2mark='X'\n",
    "    global player2\n",
    "    player2=input('Enter the name of second player: \\n')\n"
   ]
  },
  {
   "cell_type": "code",
   "execution_count": 4,
   "metadata": {},
   "outputs": [
    {
     "name": "stdout",
     "output_type": "stream",
     "text": [
      "X | O | $\n",
      "---------\n",
      "O | X | O\n",
      "---------\n",
      "X | O | X\n"
     ]
    }
   ],
   "source": [
    "def place_marker(board,mark,position):\n",
    "    board[position]=mark\n",
    "place_marker(test_board,'$',3)\n",
    "display_board(test_board)"
   ]
  },
  {
   "cell_type": "code",
   "execution_count": 5,
   "metadata": {},
   "outputs": [],
   "source": [
    "def space_check(board,position):\n",
    "    return board[position]==' '\n",
    "\n",
    "\n",
    "\n",
    "def full_board_check(board):\n",
    "    return ' ' in board\n",
    "\n",
    "full_board_check(test_board)\n",
    "        \n",
    "        \n",
    "            \n",
    "def replay():\n",
    "    reply=input('Do you want to play again? yes or no\\n')\n",
    "    if reply.lower()=='yes':\n",
    "        return False\n",
    "    if reply.lower()=='no':\n",
    "        return True"
   ]
  },
  {
   "cell_type": "code",
   "execution_count": 6,
   "metadata": {},
   "outputs": [
    {
     "name": "stdout",
     "output_type": "stream",
     "text": [
      "X | X | O\n",
      "---------\n",
      "X | O |  \n",
      "---------\n",
      "X |   | O\n",
      "Do you want to play again: yes or no\n",
      "no\n"
     ]
    }
   ],
   "source": [
    "from IPython.display import clear_output\n",
    "replay='yes'\n",
    "\n",
    "print('Welcome to Tic Tac Toe')\n",
    "while True:\n",
    "    board=['#',' ',' ',' ',' ',' ',' ',' ',' ',' ']\n",
    "    player_input()\n",
    "    i=0\n",
    "    game_on=True\n",
    "    while game_on:\n",
    "        display_board(board)\n",
    "        if i%2==0:\n",
    "            position=int(input(f'Enter a position(1-9) {player1}: '))\n",
    "            if space_check(board,position):\n",
    "                place_marker(board,player1mark,position)\n",
    "                if win_game(board,player1mark):\n",
    "                    print(player1 + ' won the game')\n",
    "                    display_board(board)\n",
    "                    break\n",
    "            else:\n",
    "                print('Place already full')\n",
    "                position=int(input(f'Enter a position(1-9) {player1}: '))\n",
    "                place_marker(board,player1mark,position)\n",
    "                if win_game(board,player1mark):\n",
    "                    print(player1 + ' won the game')\n",
    "                    display_board(board)\n",
    "                    break\n",
    "        else:\n",
    "            position=int(input(f'Enter a position(1-9) {player2}: '))\n",
    "            if space_check(board,position):\n",
    "                place_marker(board,player2mark,position)\n",
    "                if win_game(board,player2mark):\n",
    "                    print(player2 + ' won the game')\n",
    "                    display_board(board)\n",
    "                    break\n",
    "            else:\n",
    "                print('Place already full')\n",
    "                position=int(input(f'Enter a position(1-9) {player2}: '))\n",
    "                place_marker(board,player2mark,position)\n",
    "                if win_game(board,player2mark):\n",
    "                    print(player2 + ' won the game')\n",
    "                    display_board(board)\n",
    "                    break\n",
    "        \n",
    "        i+=1\n",
    "        game_on=full_board_check(board)\n",
    "        display_board(board)\n",
    "    again=input('Do you want to play again: yes or no\\n')\n",
    "    if again.lower()=='no':\n",
    "        break\n",
    "    else:\n",
    "        continue"
   ]
  },
  {
   "cell_type": "code",
   "execution_count": null,
   "metadata": {},
   "outputs": [],
   "source": []
  }
 ],
 "metadata": {
  "kernelspec": {
   "display_name": "Python 3",
   "language": "python",
   "name": "python3"
  },
  "language_info": {
   "codemirror_mode": {
    "name": "ipython",
    "version": 3
   },
   "file_extension": ".py",
   "mimetype": "text/x-python",
   "name": "python",
   "nbconvert_exporter": "python",
   "pygments_lexer": "ipython3",
   "version": "3.7.6"
  }
 },
 "nbformat": 4,
 "nbformat_minor": 4
}
